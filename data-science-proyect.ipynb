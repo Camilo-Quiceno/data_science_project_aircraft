{
 "cells": [
  {
   "cell_type": "markdown",
   "metadata": {},
   "source": [
    "# Import Zone"
   ]
  },
  {
   "cell_type": "code",
   "execution_count": 7,
   "metadata": {},
   "outputs": [],
   "source": [
    "import pandas as pd"
   ]
  },
  {
   "cell_type": "markdown",
   "metadata": {},
   "source": [
    "## Load dataset"
   ]
  },
  {
   "cell_type": "code",
   "execution_count": 26,
   "metadata": {},
   "outputs": [
    {
     "name": "stdout",
     "output_type": "stream",
     "text": [
      "The size of the dataframe is 23519 rows and 23 columns.\n",
      "\n",
      "The columns have the following names & types: \n",
      "Incident_Date           object\n",
      "Aircaft_Model           object\n",
      "Aircaft_Registration    object\n",
      "Aircaft_Operator        object\n",
      "Aircaft_Nature          object\n",
      "Incident_Category       object\n",
      "Incident_Cause(es)      object\n",
      "Incident_Location       object\n",
      "Aircaft_Damage_Type     object\n",
      "Date                    object\n",
      "Time                    object\n",
      "Arit                    object\n",
      "Aircaft_Engines         object\n",
      "Onboard_Crew            object\n",
      "Onboard_Passengers      object\n",
      "Onboard_Total           object\n",
      "Fatalities               int64\n",
      "Aircaft_First_Flight    object\n",
      "Aircraft_Phase          object\n",
      "Departure_Airport       object\n",
      "Destination_Airport     object\n",
      "Ground_Casualties       object\n",
      "Collision_Casualties    object\n",
      "dtype: object\n"
     ]
    }
   ],
   "source": [
    "df = pd.read_csv('data/Aircraft_Incident_Dataset.csv')\n",
    "df_types = df.dtypes\n",
    "df_shape = df.shape\n",
    "print(f'The size of the dataframe is {df_shape[0]} rows and {df_shape[1]} columns.')\n",
    "print('\\nThe columns have the following names & types: ')\n",
    "print(df_types)"
   ]
  }
 ],
 "metadata": {
  "kernelspec": {
   "display_name": "base",
   "language": "python",
   "name": "python3"
  },
  "language_info": {
   "codemirror_mode": {
    "name": "ipython",
    "version": 3
   },
   "file_extension": ".py",
   "mimetype": "text/x-python",
   "name": "python",
   "nbconvert_exporter": "python",
   "pygments_lexer": "ipython3",
   "version": "3.9.7"
  },
  "orig_nbformat": 4
 },
 "nbformat": 4,
 "nbformat_minor": 2
}
