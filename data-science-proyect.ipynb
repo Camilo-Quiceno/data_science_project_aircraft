{
 "cells": [
  {
   "cell_type": "markdown",
   "metadata": {},
   "source": [
    "# Import Zone"
   ]
  },
  {
   "cell_type": "code",
   "execution_count": 2,
   "metadata": {},
   "outputs": [],
   "source": [
    "import pandas as pd\n",
    "import matplotlib.pyplot as plt"
   ]
  },
  {
   "cell_type": "markdown",
   "metadata": {},
   "source": [
    "## Load dataset"
   ]
  },
  {
   "cell_type": "code",
   "execution_count": 3,
   "metadata": {},
   "outputs": [
    {
     "name": "stdout",
     "output_type": "stream",
     "text": [
      "The size of the dataframe is 23519 rows and 23 columns.\n",
      "\n",
      "The columns have the following names & types: \n",
      "Incident_Date           object\n",
      "Aircaft_Model           object\n",
      "Aircaft_Registration    object\n",
      "Aircaft_Operator        object\n",
      "Aircaft_Nature          object\n",
      "Incident_Category       object\n",
      "Incident_Cause(es)      object\n",
      "Incident_Location       object\n",
      "Aircaft_Damage_Type     object\n",
      "Date                    object\n",
      "Time                    object\n",
      "Arit                    object\n",
      "Aircaft_Engines         object\n",
      "Onboard_Crew            object\n",
      "Onboard_Passengers      object\n",
      "Onboard_Total           object\n",
      "Fatalities               int64\n",
      "Aircaft_First_Flight    object\n",
      "Aircraft_Phase          object\n",
      "Departure_Airport       object\n",
      "Destination_Airport     object\n",
      "Ground_Casualties       object\n",
      "Collision_Casualties    object\n",
      "dtype: object\n"
     ]
    }
   ],
   "source": [
    "df = pd.read_csv('data/Aircraft_Incident_Dataset.csv')\n",
    "df_types = df.dtypes\n",
    "df_shape = df.shape\n",
    "print(f'The size of the dataframe is {df_shape[0]} rows and {df_shape[1]} columns.')\n",
    "print('\\nThe columns have the following names & types: ')\n",
    "print(df_types)"
   ]
  },
  {
   "cell_type": "markdown",
   "metadata": {},
   "source": [
    "## Data Segmentation\n",
    "\n",
    "Extract only the information related with Domestic Scheduled Passenger (DSP), separating the dataframe in Incidents DSP with fatalities and DSP without fatalities:"
   ]
  },
  {
   "cell_type": "code",
   "execution_count": 4,
   "metadata": {},
   "outputs": [
    {
     "name": "stdout",
     "output_type": "stream",
     "text": [
      "The number of records of Domestic Scheduled Passenger with fatalities are: 1755\n",
      "The number of records of Domestic Scheduled Passenger without fatalities are: 2249\n"
     ]
    }
   ],
   "source": [
    "df_dsp_wofatalities = df[(df[\"Aircaft_Nature\"] == \"Domestic Scheduled Passenger\") & (df[\"Fatalities\"] == 0)]\n",
    "df_dsp_wofatalities_shape = df_dsp_wofatalities.shape\n",
    "df_dsp_wfatalities  = df[(df[\"Aircaft_Nature\"] == \"Domestic Scheduled Passenger\") & (df[\"Fatalities\"] > 0)]\n",
    "df_dsp_wfatalities_shape = df_dsp_wfatalities.shape\n",
    "\n",
    "print(f'The number of records of Domestic Scheduled Passenger with fatalities are: {df_dsp_wfatalities_shape[0]}')\n",
    "print(f'The number of records of Domestic Scheduled Passenger without fatalities are: {df_dsp_wofatalities_shape[0]}')"
   ]
  },
  {
   "cell_type": "markdown",
   "metadata": {},
   "source": [
    "# Causes"
   ]
  },
  {
   "cell_type": "markdown",
   "metadata": {},
   "source": [
    "## Determine the most common reason/cause of airplane crashes and their fatality rate?"
   ]
  },
  {
   "cell_type": "markdown",
   "metadata": {},
   "source": [
    "### What are the categories of cause most common in accidents with fatalities?"
   ]
  },
  {
   "cell_type": "code",
   "execution_count": 28,
   "metadata": {},
   "outputs": [
    {
     "data": {
      "text/plain": [
       "Result      1281\n",
       "Info         369\n",
       "Airplane     224\n",
       "Weather      164\n",
       "Security     137\n",
       "dtype: int64"
      ]
     },
     "execution_count": 28,
     "metadata": {},
     "output_type": "execute_result"
    }
   ],
   "source": [
    "#Extract just the data related with incident cause (Column 7) when the accidents have fatalities.\n",
    "all_causes_wfatalities = df_dsp_wfatalities['Incident_Cause(es)'].values\n",
    "\n",
    "#Separate each value by \",\" Character, due to each value has multiple causes, For example: Airplane - Engines, Airplane - Engines - Fire, Cargo - Overloaded\n",
    "all_causes_wfatalities_separated = df_dsp_wfatalities['Incident_Cause(es)'].apply(lambda x: x.split(\",\"))\n",
    "\n",
    "#Iterate each flight to get just the first word of each cause, for example : Airplane - Engines -> Airplane and eliminating the duplicates in each element.\n",
    "all_causes_wfatalities_separated_unique = all_causes_wfatalities_separated.apply(lambda x: list(set([elem.split('-')[0].strip() for elem in x])))\n",
    "\n",
    "#Transform the set in a flat list with all the causes\n",
    "flat_list_all_causes_wfatalities = [word for series in all_causes_wfatalities_separated_unique for word in series]\n",
    "\n",
    "#Count the frecuency of each cause and delete word mountain due to it is not a category and take just the top 5 values\n",
    "series_all_causes_wfatalities_frecuency = pd.Series(flat_list_all_causes_wfatalities).value_counts().drop('mountain')[:5]\n",
    "series_all_causes_wfatalities_frecuency\n",
    "\n"
   ]
  },
  {
   "cell_type": "code",
   "execution_count": 43,
   "metadata": {},
   "outputs": [
    {
     "data": {
      "image/png": "[encoded data removed]",
      "text/plain": [
       "<Figure size 720x576 with 1 Axes>"
      ]
     },
     "metadata": {
      "needs_background": "light"
     },
     "output_type": "display_data"
    }
   ],
   "source": [
    "#Ploting zone:\n",
    "fig, ax = plt.subplots()\n",
    "\n",
    "#Defien x & y values for the plot\n",
    "causes = series_all_causes_wfatalities_frecuency.index\n",
    "causes_frequency = series_all_causes_wfatalities_frecuency.values\n",
    "\n",
    "#Adding bar values\n",
    "ax.bar(causes, causes_frequency)\n",
    "bars = ax.bar(causes, causes_frequency)\n",
    "ax.bar_label(bars)\n",
    "\n",
    "#Adding title to th chart and font sizes\n",
    "ax.set_title('Accidents With Fatalities By Category', fontsize = 26)\n",
    "ax.tick_params(axis='x', labelsize=12)\n",
    "ax.tick_params(axis='y', labelsize=12)\n",
    "\n",
    "# Adjusting chart size\n",
    "fig.set_figwidth(10)\n",
    "fig.set_figheight(8)\n",
    "\n",
    "#Ploting the chart\n",
    "plt.show()"
   ]
  }
 ],
 "metadata": {
  "kernelspec": {
   "display_name": "base",
   "language": "python",
   "name": "python3"
  },
  "language_info": {
   "codemirror_mode": {
    "name": "ipython",
    "version": 3
   },
   "file_extension": ".py",
   "mimetype": "text/x-python",
   "name": "python",
   "nbconvert_exporter": "python",
   "pygments_lexer": "ipython3",
   "version": "3.9.7"
  },
  "orig_nbformat": 4
 },
 "nbformat": 4,
 "nbformat_minor": 2
}
